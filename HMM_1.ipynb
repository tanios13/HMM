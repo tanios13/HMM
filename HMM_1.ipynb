{
 "cells": [
  {
   "cell_type": "code",
   "execution_count": 14,
   "id": "0d317312",
   "metadata": {
    "scrolled": true
   },
   "outputs": [
    {
     "ename": "IndexError",
     "evalue": "list index out of range",
     "output_type": "error",
     "traceback": [
      "\u001b[1;31m---------------------------------------------------------------------------\u001b[0m",
      "\u001b[1;31mIndexError\u001b[0m                                Traceback (most recent call last)",
      "\u001b[1;32m~\\AppData\\Local\\Temp/ipykernel_34992/385254127.py\u001b[0m in \u001b[0;36m<module>\u001b[1;34m\u001b[0m\n\u001b[0;32m     69\u001b[0m     \u001b[0mprint\u001b[0m\u001b[1;33m(\u001b[0m\u001b[0mcompute_probability\u001b[0m\u001b[1;33m(\u001b[0m\u001b[0mA\u001b[0m\u001b[1;33m,\u001b[0m \u001b[0mB\u001b[0m\u001b[1;33m,\u001b[0m \u001b[0mPi\u001b[0m\u001b[1;33m,\u001b[0m \u001b[0mO\u001b[0m\u001b[1;33m,\u001b[0m \u001b[0mT\u001b[0m\u001b[1;33m)\u001b[0m\u001b[1;33m)\u001b[0m\u001b[1;33m\u001b[0m\u001b[1;33m\u001b[0m\u001b[0m\n\u001b[0;32m     70\u001b[0m \u001b[1;33m\u001b[0m\u001b[0m\n\u001b[1;32m---> 71\u001b[1;33m \u001b[0mmain\u001b[0m\u001b[1;33m(\u001b[0m\u001b[1;33m)\u001b[0m\u001b[1;33m\u001b[0m\u001b[1;33m\u001b[0m\u001b[0m\n\u001b[0m",
      "\u001b[1;32m~\\AppData\\Local\\Temp/ipykernel_34992/385254127.py\u001b[0m in \u001b[0;36mmain\u001b[1;34m()\u001b[0m\n\u001b[0;32m     58\u001b[0m \u001b[1;32mdef\u001b[0m \u001b[0mmain\u001b[0m\u001b[1;33m(\u001b[0m\u001b[1;33m)\u001b[0m\u001b[1;33m:\u001b[0m\u001b[1;33m\u001b[0m\u001b[1;33m\u001b[0m\u001b[0m\n\u001b[0;32m     59\u001b[0m     \u001b[0mnested_matrix\u001b[0m\u001b[1;33m,\u001b[0m \u001b[0mnested_size\u001b[0m\u001b[1;33m,\u001b[0m \u001b[0mnested_emissions\u001b[0m\u001b[1;33m,\u001b[0m \u001b[0mnested_emissions_count\u001b[0m \u001b[1;33m=\u001b[0m \u001b[0mextract_input\u001b[0m\u001b[1;33m(\u001b[0m\u001b[1;33m)\u001b[0m\u001b[1;33m\u001b[0m\u001b[1;33m\u001b[0m\u001b[0m\n\u001b[1;32m---> 60\u001b[1;33m     \u001b[0mA_raw\u001b[0m\u001b[1;33m,\u001b[0m \u001b[0mB_raw\u001b[0m\u001b[1;33m,\u001b[0m \u001b[0mPi_raw\u001b[0m \u001b[1;33m=\u001b[0m \u001b[0mnested_matrix\u001b[0m\u001b[1;33m[\u001b[0m\u001b[1;36m0\u001b[0m\u001b[1;33m]\u001b[0m\u001b[1;33m,\u001b[0m \u001b[0mnested_matrix\u001b[0m\u001b[1;33m[\u001b[0m\u001b[1;36m1\u001b[0m\u001b[1;33m]\u001b[0m\u001b[1;33m,\u001b[0m \u001b[0mnested_matrix\u001b[0m\u001b[1;33m[\u001b[0m\u001b[1;36m2\u001b[0m\u001b[1;33m]\u001b[0m\u001b[1;33m\u001b[0m\u001b[1;33m\u001b[0m\u001b[0m\n\u001b[0m\u001b[0;32m     61\u001b[0m     \u001b[0mA_size\u001b[0m\u001b[1;33m,\u001b[0m \u001b[0mB_size\u001b[0m\u001b[1;33m,\u001b[0m \u001b[0mPi_size\u001b[0m \u001b[1;33m=\u001b[0m \u001b[0mnested_size\u001b[0m\u001b[1;33m[\u001b[0m\u001b[1;36m0\u001b[0m\u001b[1;33m]\u001b[0m\u001b[1;33m,\u001b[0m \u001b[0mnested_size\u001b[0m\u001b[1;33m[\u001b[0m\u001b[1;36m1\u001b[0m\u001b[1;33m]\u001b[0m\u001b[1;33m,\u001b[0m \u001b[0mnested_size\u001b[0m\u001b[1;33m[\u001b[0m\u001b[1;36m2\u001b[0m\u001b[1;33m]\u001b[0m\u001b[1;33m\u001b[0m\u001b[1;33m\u001b[0m\u001b[0m\n\u001b[0;32m     62\u001b[0m \u001b[1;33m\u001b[0m\u001b[0m\n",
      "\u001b[1;31mIndexError\u001b[0m: list index out of range"
     ]
    }
   ],
   "source": [
    "import sys\n",
    "\n",
    "\n",
    "def extract_input():\n",
    "    #raw_data = sys.stdin.readline().split(\" \")\n",
    "    nested_size = []\n",
    "    nested_matrix = []\n",
    "    nested_emissions_count = 0\n",
    "    nested_emissions = []\n",
    "    i = 0\n",
    "    for line in sys.stdin.readlines():\n",
    "    #for line in input:\n",
    "        i += 1\n",
    "        raw_data = line.split()\n",
    "        if (i == 4):\n",
    "            nested_emissions = [int(x) for x in raw_data[1:]]\n",
    "            nested_emissions_count = int(raw_data[0])\n",
    "        else:\n",
    "            nested_matrix.append([float(x) for x in raw_data[2:]])\n",
    "            nested_size.append([int(x) for x in raw_data[0:2]])\n",
    "    return nested_matrix, nested_size, nested_emissions, nested_emissions_count\n",
    "\n",
    "\n",
    "def form_matrix(raw_matrix, size):\n",
    "    final = []\n",
    "    rows = size[0]\n",
    "    columns = size[1]\n",
    "    for i in range(rows):\n",
    "        final.append(raw_matrix[columns * i: columns * (i + 1)])\n",
    "    return final\n",
    "\n",
    "\n",
    "def compute_probability(A, B, Pi, O, T):\n",
    "    alpha_matrix = compute_alpha_matrix(A, B, Pi, O, T)\n",
    "    N = len(A)\n",
    "    probability = 0\n",
    "    for i in range(N):\n",
    "        probability += alpha_matrix[T-1][i]\n",
    "\n",
    "    return probability\n",
    "\n",
    "\n",
    "def compute_alpha_matrix(A, B, Pi, O, T):\n",
    "    rows = T  # T (number of Observations)\n",
    "    cols = len(A)  # N (number of states)\n",
    "\n",
    "    alpha_matrix = [[0 for _ in range(cols)] for _ in range(rows)]\n",
    "\n",
    "    # fill in the initial states\n",
    "    for j in range(cols):\n",
    "        alpha_matrix[0][j] = Pi[0][j] * B[j][O[0]]\n",
    "\n",
    "    # fill the other states\n",
    "    for t in range(1, rows):\n",
    "        for i in range(cols):\n",
    "            for j in range(cols):\n",
    "                alpha_matrix[t][i] += alpha_matrix[t - 1][j] * A[j][i]\n",
    "            alpha_matrix[t][i] *= B[i][O[t]]\n",
    "\n",
    "    return alpha_matrix\n",
    "\n",
    "\n",
    "def main():\n",
    "    nested_matrix, nested_size, nested_emissions, nested_emissions_count = extract_input()\n",
    "    A_raw, B_raw, Pi_raw = nested_matrix[0], nested_matrix[1], nested_matrix[2]\n",
    "    A_size, B_size, Pi_size = nested_size[0], nested_size[1], nested_size[2]\n",
    "\n",
    "    A, B, Pi = form_matrix(A_raw, A_size), form_matrix(B_raw, B_size), form_matrix(Pi_raw, Pi_size)\n",
    "\n",
    "    O = nested_emissions\n",
    "    T = nested_emissions_count\n",
    "\n",
    "    result = round(compute_probability(A, B, Pi, O, T), 6)\n",
    "    sys.stdout.write(str(result))\n",
    "    \n",
    "main()"
   ]
  },
  {
   "cell_type": "code",
   "execution_count": null,
   "id": "19e86009",
   "metadata": {},
   "outputs": [],
   "source": []
  }
 ],
 "metadata": {
  "kernelspec": {
   "display_name": "Python 3 (ipykernel)",
   "language": "python",
   "name": "python3"
  },
  "language_info": {
   "codemirror_mode": {
    "name": "ipython",
    "version": 3
   },
   "file_extension": ".py",
   "mimetype": "text/x-python",
   "name": "python",
   "nbconvert_exporter": "python",
   "pygments_lexer": "ipython3",
   "version": "3.8.12"
  }
 },
 "nbformat": 4,
 "nbformat_minor": 5
}
